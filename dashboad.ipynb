{
 "cells": [
  {
   "cell_type": "code",
   "execution_count": null,
   "metadata": {},
   "outputs": [],
   "source": [
    "# %pip install plotly matplotlib seaborn pandas numpy dash\n",
    "# %pip install reportlab pandas matplotlib seaborn plotly"
   ]
  },
  {
   "cell_type": "code",
   "execution_count": 3,
   "metadata": {},
   "outputs": [
    {
     "name": "stdout",
     "output_type": "stream",
     "text": [
      "Relatório gerado com sucesso: Relatorio_Vendas.pdf\n"
     ]
    }
   ],
   "source": [
    "import os\n",
    "import pandas as pd\n",
    "import matplotlib.pyplot as plt\n",
    "import seaborn as sns\n",
    "import plotly.express as px\n",
    "from reportlab.lib.pagesizes import letter\n",
    "from reportlab.pdfgen import canvas\n",
    "from reportlab.platypus import SimpleDocTemplate, Image, Paragraph, Spacer\n",
    "from reportlab.lib.styles import getSampleStyleSheet\n",
    "\n",
    "# Verifica se o arquivo de dados existe antes de carregá-lo\n",
    "file_path = 'Vendas.xlsx'\n",
    "if not os.path.exists(file_path):\n",
    "    raise FileNotFoundError(f\"Arquivo '{file_path}' não encontrado.\")\n",
    "\n",
    "# Importação da base de dados\n",
    "df = pd.read_excel(file_path)\n",
    "\n",
    "# Processamento dos dados\n",
    "df_lojas_produtos = df.groupby(['ID Loja', 'Produto']).agg({\n",
    "    'Quantidade': 'sum',\n",
    "    'Valor Unitário': 'mean',\n",
    "    'Valor Final': 'sum'\n",
    "}).reset_index()\n",
    "\n",
    "# Diretório para salvar os gráficos\n",
    "output_dir = \"graficos\"\n",
    "os.makedirs(output_dir, exist_ok=True)\n",
    "\n",
    "# Gerar e salvar gráficos Matplotlib\n",
    "plt.figure(figsize=(10, 5))\n",
    "sns.barplot(data=df_lojas_produtos, x='ID Loja', y='Valor Final', hue='Produto')\n",
    "plt.title('VALOR dos produtos vendidos por loja - Dezembro/2019')\n",
    "plt.xticks(rotation=90)\n",
    "plt.savefig(f\"{output_dir}/grafico_valor.png\", bbox_inches='tight')\n",
    "plt.close()\n",
    "\n",
    "plt.figure(figsize=(10, 5))\n",
    "sns.barplot(data=df_lojas_produtos, x='ID Loja', y='Quantidade', hue='Produto')\n",
    "plt.title('QUANTIDADE de produtos vendidos por loja - Dezembro/2019')\n",
    "plt.xticks(rotation=90)\n",
    "plt.savefig(f\"{output_dir}/grafico_quantidade.png\", bbox_inches='tight')\n",
    "plt.close()\n",
    "\n",
    "plt.figure(figsize=(10, 5))\n",
    "sns.scatterplot(data=df_lojas_produtos, x='Quantidade', y='Valor Final', hue='Produto', size='Valor Unitário', sizes=(10, 500))\n",
    "plt.title('QUANTIDADE x VALOR dos produtos vendidos - Dezembro/2019')\n",
    "plt.xticks(rotation=90)\n",
    "plt.savefig(f\"{output_dir}/grafico_relacao.png\", bbox_inches='tight')\n",
    "plt.close()\n",
    "\n",
    "# Criar o relatório PDF\n",
    "pdf_file = \"Relatorio_Vendas.pdf\"\n",
    "doc = SimpleDocTemplate(pdf_file, pagesize=letter)\n",
    "styles = getSampleStyleSheet()\n",
    "elements = []\n",
    "\n",
    "# Adicionar título e descrição\n",
    "elements.append(Paragraph(\"Relatório de Vendas\", styles[\"Title\"]))\n",
    "elements.append(Spacer(1, 12))\n",
    "elements.append(Paragraph(\"Este relatório apresenta a análise das vendas realizadas no mês de dezembro de 2019.\", styles[\"Normal\"]))\n",
    "elements.append(Spacer(1, 12))\n",
    "\n",
    "# Adicionar gráficos ao PDF\n",
    "for img_name, title in zip(\n",
    "    [\"grafico_valor.png\", \"grafico_quantidade.png\", \"grafico_relacao.png\"],\n",
    "    [\"Valor dos produtos vendidos por loja\", \"Quantidade de produtos vendidos por loja\", \"Relação entre Quantidade e Valor\"]\n",
    "):\n",
    "    elements.append(Paragraph(title, styles[\"Heading2\"]))\n",
    "    elements.append(Image(f\"{output_dir}/{img_name}\", width=500, height=300))\n",
    "    elements.append(Spacer(1, 12))\n",
    "\n",
    "# Criar e salvar o PDF\n",
    "doc.build(elements)\n",
    "print(f\"Relatório gerado com sucesso: {pdf_file}\")\n"
   ]
  }
 ],
 "metadata": {
  "kernelspec": {
   "display_name": "base",
   "language": "python",
   "name": "python3"
  },
  "language_info": {
   "codemirror_mode": {
    "name": "ipython",
    "version": 3
   },
   "file_extension": ".py",
   "mimetype": "text/x-python",
   "name": "python",
   "nbconvert_exporter": "python",
   "pygments_lexer": "ipython3",
   "version": "3.12.7"
  }
 },
 "nbformat": 4,
 "nbformat_minor": 2
}
